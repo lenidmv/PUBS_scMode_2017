{
 "cells": [
  {
   "cell_type": "code",
   "execution_count": 89,
   "metadata": {},
   "outputs": [],
   "source": [
    "import cPickle as pic\n",
    "import numpy as np\n",
    "import matplotlib.pyplot as plt\n",
    "from Bio import Seq\n",
    "import operator\n"
   ]
  },
  {
   "cell_type": "code",
   "execution_count": 2,
   "metadata": {
    "collapsed": true
   },
   "outputs": [],
   "source": [
    "good_reads = pic.load(open(\"data/good_reads.pkl\", \"rb\"))\n",
    "WT = \"ATGGATGTATTCATGAAAGGACTTTCAAAGGCCAAGGAGGGAGTTGTGGCTGCTGCTGAGAAAACCAAACAGGGTGTGGCAGAAGCAGCAGGAAAGACAAAAGAGGGTGTTCTCTATGTAGGCTCCAAAACCAAGGAGGGAGTGGTGCATGGTGTGGCAACAGTGGCTGAGAAGACCAAAGAGCAAGTGACAAATGTTGGAGGAGCAGTGGTGACGGGTGTGACAGCAGTAGCCCAGAAGACAGTGGAGGGAGCAGGGAGCATTGCAGCAGCCACTGGCTTTGTCAAAAAGGACCAGTTGGGCAAGAATGAAGAAGGAGCCCCACAGGAAGGAATTCTGGAAGATATGCCTGTGGATCCTGACAATGAGGCTTATGAAATGCCTTCTGAGGAAGGGTATCAAGACTACGAACCTGAAGCC\""
   ]
  },
  {
   "cell_type": "code",
   "execution_count": 17,
   "metadata": {},
   "outputs": [
    {
     "name": "stdout",
     "output_type": "stream",
     "text": [
      "('AAATCACACAGATGCAACACATGAGA', 'ATGGATGTATTCATGAAAGGACTTTCAAAGGCCAAGGAGGGAGTTGTGGCTGCTGCTGAGAAAACCAAACAGGGTGTGGCAGAAGCAGCAGGAAAGACAAAAGAGCTCTCTAGAGGGCCGCATCATGTAATTAGTTATATCTCGTATGCCGTCTTCTGCTTGAAAAAAAAAAACAACAAAGAGCCTATCAAAAGTATTGGAAATAGTAATACATCAAATCGCTGTGCTGATGGTATCAATAGAATGACCATGAGTAGTAGATATGCTTTCAACATATTCTTGATGAATAAATAGAAAGTAAAGTTTTAAAAGGTCAAGAGGGGTTTTGGTGTCGATTGTATGAATAATAAACAGAGTGTATAAGAAGCTAGAGAAAAGAAACAACGGTTATTAAGATGGCTTCATGTTGTCATTTCTTAT', [16, 16, 16, 16, 16, 18, 18, 18, 18, 18, 18, 18, 18, 18, 18, 18, 18, 18, 18, 18, 18, 18, 18, 18, 18, 18, 18, 18, 18, 18, 18, 18, 18, 18, 18, 18, 18, 18, 18, 18, 18, 18, 18, 18, 18, 18, 18, 18, 18, 18, 18, 18, 18, 18, 18, 18, 18, 18, 18, 18, 18, 18, 18, 18, 18, 18, 18, 18, 18, 18, 18, 18, 18, 18, 18, 18, 18, 18, 18, 18, 18, 18, 18, 18, 18, 18, 18, 18, 18, 18, 18, 18, 18, 18, 18, 18, 18, 18, 18, 18, 18, 15, 18, 18, 18, 11, 17, 16, 17, 17, 18, 18, 18, 18, 17, 18, 18, 16, 17, 16, 16, 14, 14, 18, 16, 15, 18, 17, 18, 18, 18, 18, 18, 18, 18, 18, 18, 11, 18, 16, 11, 15, 18, 18, 17, 14, 17, 14, 5, 9, 16, 18, 4, 13, 17, 18, 16, 17, 16, 11, 12, 13, 11, 18, 18, 17, 18, 4, 11, 16, 17, 10, 13, 4, 8, 5, 10, 5, 5, 5, 4, 7, 4, 5, 5, 5, 9, 8, 4, 5, 4, 10, 10, 5, 9, 5, 5, 8, 5, 5, 8, 5, 5, 4, 5, 4, 7, 9, 7, 5, 9, 4, 4, 4, 9, 5, 5, 5, 9, 7, 22, 22, 25, 22, 10, 22, 13, 21, 26, 10, 24, 15, 10, 10, 11, 18, 9, 10, 14, 14, 25, 21, 10, 14, 17, 14, 22, 12, 19, 10, 10, 17, 23, 9, 9, 15, 10, 16, 12, 15, 9, 18, 21, 14, 17, 12, 17, 19, 12, 12, 9, 12, 16, 14, 23, 15, 17, 22, 12, 22, 24, 22, 21, 24, 19, 17, 26, 17, 22, 30, 15, 14, 9, 9, 14, 9, 19, 21, 17, 24, 10, 13, 5, 5, 10, 5, 5, 5, 5, 10, 10, 11, 16, 13, 17, 5, 12, 16, 13, 15, 12, 5, 16, 5, 5, 5, 13, 5, 9, 12, 5, 12, 5, 5, 5, 5, 5, 5, 5, 5, 9, 12, 9, 5, 9, 11, 9, 5, 5, 12, 16, 12, 11, 9, 5, 11, 5, 5, 5, 5, 5, 11, 14, 5, 5, 4, 4, 11, 11, 13, 5, 5, 5, 11, 12, 4, 10, 5, 8, 15, 17, 5, 5, 4, 9, 11, 5, 5, 15, 17, 5, 5, 5, 8, 5, 5, 5, 5, 10, 10, 5, 8, 10, 8, 13, 4, 5, 10, 8, 5, 5, 4, 4, 5, 4, 4, 10, 4, 8, 4])\n"
     ]
    }
   ],
   "source": [
    "print(good_reads[0])\n",
    "aa_num = pic.load(open(\"data/aminotonumber.pkl\", \"rb\"))"
   ]
  },
  {
   "cell_type": "code",
   "execution_count": 21,
   "metadata": {},
   "outputs": [
    {
     "data": {
      "text/plain": [
       "(20, 140)"
      ]
     },
     "execution_count": 21,
     "metadata": {},
     "output_type": "execute_result"
    }
   ],
   "source": [
    "aa_pos_count = np.zeros((20, len(WT)/3))\n",
    "aa_pos_count.shape"
   ]
  },
  {
   "cell_type": "code",
   "execution_count": 10,
   "metadata": {
    "collapsed": true
   },
   "outputs": [],
   "source": [
    "def convert_to_aa(seq):\n",
    "    return str(Seq.translate(seq))"
   ]
  },
  {
   "cell_type": "code",
   "execution_count": 25,
   "metadata": {},
   "outputs": [
    {
     "name": "stdout",
     "output_type": "stream",
     "text": [
      "MDVFMKGLSKAKEGVVAAAEKTKQGVAEAAGKTKEGVLYVGSKTKEGVVHGVATVAEKTKEQVTNVGGAVVTGVTAVAQKTVEGAGSIAAATGFVKKDQLGKNEEGAPQEGILEDMPVDPDNEAYEMPSEEGYQDYEPEA\n"
     ]
    }
   ],
   "source": [
    "wt_aa = convert_to_aa(WT)\n",
    "print(wt_aa)\n",
    "\n",
    "def get_mutations(seq1, seq2):\n",
    "    ## Get list of mutations between seq1 and seq2, with seq1 as the reference (i.e. return \n",
    "    ## mutations in seq2)\n",
    "    mutations = []\n",
    "    for i in range(len(seq1)):\n",
    "        if seq1[i] != seq2[i] and seq2[i] != \"*\":\n",
    "            mutations.append((i, seq2[i]))\n",
    "    return mutations"
   ]
  },
  {
   "cell_type": "code",
   "execution_count": 27,
   "metadata": {},
   "outputs": [],
   "source": [
    "for i in good_reads:\n",
    "    seq = convert_to_aa(i[1])\n",
    "    muts = get_mutations(wt_aa, seq)\n",
    "    for m in muts:\n",
    "        aa_pos_count[aa_num[m[1]]-1, m[0]] += 1"
   ]
  },
  {
   "cell_type": "code",
   "execution_count": 28,
   "metadata": {},
   "outputs": [
    {
     "name": "stdout",
     "output_type": "stream",
     "text": [
      "[[  11053.   11749.   10939. ...,    9991.   10710.    9800.]\n",
      " [  26930.   29233.   29997. ...,  253631.  813025.  118104.]\n",
      " [  21048.   20894.   20176. ...,   23123.   57080.  962649.]\n",
      " ..., \n",
      " [  41271.   37633.   36933. ...,   38078.   34513.   34836.]\n",
      " [  21064.       0.   19621. ...,   20728.   21987.   37972.]\n",
      " [  22364.   23158.   23585. ...,   23044.       0.   23171.]]\n"
     ]
    }
   ],
   "source": [
    "print(aa_pos_count)"
   ]
  },
  {
   "cell_type": "code",
   "execution_count": 109,
   "metadata": {},
   "outputs": [
    {
     "name": "stdout",
     "output_type": "stream",
     "text": [
      "[ 0.01690367  0.04205848  0.03006089  0.09875751  0.05625446  0.02077387\n",
      "  0.05253821  0.02901349  0.05937939  0.04720915  0.04044422  0.16777353\n",
      "  0.05309644  0.04611427  0.04368713  0.03246501  0.07600826  0.05414384\n",
      "  0.          0.03331818]\n"
     ]
    }
   ],
   "source": [
    "norm_factor = np.sum(aa_pos_count, axis=0)\n",
    "aa_pos_count /= norm_factor"
   ]
  },
  {
   "cell_type": "code",
   "execution_count": 107,
   "metadata": {},
   "outputs": [
    {
     "name": "stdout",
     "output_type": "stream",
     "text": [
      "[ 0.05  0.05  0.05  0.05  0.05  0.05  0.05  0.05  0.05  0.05  0.05  0.05\n",
      "  0.05  0.05  0.05  0.05  0.05  0.05  0.05  0.05  0.05  0.05  0.05  0.05\n",
      "  0.05  0.05  0.05  0.05  0.05  0.05  0.05  0.05  0.05  0.05  0.05  0.05\n",
      "  0.05  0.05  0.05  0.05  0.05  0.05  0.05  0.05  0.05  0.05  0.05  0.05\n",
      "  0.05  0.05  0.05  0.05  0.05  0.05  0.05  0.05  0.05  0.05  0.05  0.05\n",
      "  0.05  0.05  0.05  0.05  0.05  0.05  0.05  0.05  0.05  0.05  0.05  0.05\n",
      "  0.05  0.05  0.05  0.05  0.05  0.05  0.05  0.05  0.05  0.05  0.05  0.05\n",
      "  0.05  0.05  0.05  0.05  0.05  0.05  0.05  0.05  0.05  0.05  0.05  0.05\n",
      "  0.05  0.05  0.05  0.05  0.05  0.05  0.05  0.05  0.05  0.05  0.05  0.05\n",
      "  0.05  0.05  0.05  0.05  0.05  0.05  0.05  0.05  0.05  0.05  0.05  0.05\n",
      "  0.05  0.05  0.05  0.05  0.05  0.05  0.05  0.05  0.05  0.05  0.05  0.05\n",
      "  0.05  0.05  0.05  0.05  0.05  0.05  0.05  0.05]\n"
     ]
    }
   ],
   "source": [
    "## Expected percent per amino acid at each position = 5% (1/20)\n",
    "\n",
    "# Bias = empirical mean - expectation\n",
    "expectation = np.zeros((20,1)) + 0.05\n",
    "bias = abs(aa_mean_percent - expectation.T) / 0.05\n",
    "variance = (aa_mean_percent - expectation.T)**2\n",
    "\n",
    "num_aa = sorted(aa_num, key=aa_num.get)[1:]"
   ]
  },
  {
   "cell_type": "code",
   "execution_count": 102,
   "metadata": {},
   "outputs": [
    {
     "data": {
      "image/png": "[encoded data removed]",
      "text/plain": [
       "<matplotlib.figure.Figure at 0x174554a50>"
      ]
     },
     "metadata": {},
     "output_type": "display_data"
    }
   ],
   "source": [
    "# Plot bias as function of amino acid\n",
    "\n",
    "plt.bar(x, bias.T)\n",
    "plt.title(\"Bias of Amimno Acid Representation as Percent of Expectation (0.05)\")\n",
    "plt.xlabel(\"Amino Acid\")\n",
    "plt.ylabel(\"Bias\")\n",
    "plt.xticks(x, num_aa)\n",
    "plt.show()"
   ]
  },
  {
   "cell_type": "code",
   "execution_count": 103,
   "metadata": {},
   "outputs": [
    {
     "data": {
      "image/png": "[encoded data removed]",
      "text/plain": [
       "<matplotlib.figure.Figure at 0x14305c990>"
      ]
     },
     "metadata": {},
     "output_type": "display_data"
    }
   ],
   "source": [
    "# Plot variance as function of amino acid \n",
    "# Plot bias as function of amino acid\n",
    "\n",
    "plt.bar(x, variance.T)\n",
    "plt.title(\"Variance of Amimno Acid Representation\")\n",
    "plt.xlabel(\"Amino Acid\")\n",
    "plt.ylabel(\"Variance\")\n",
    "plt.xticks(x, num_aa)\n",
    "plt.show()"
   ]
  },
  {
   "cell_type": "code",
   "execution_count": null,
   "metadata": {
    "collapsed": true
   },
   "outputs": [],
   "source": [
    "# Plot avg aa representation as function of position in WT\n",
    "plt.bar(len(WT), )"
   ]
  }
 ],
 "metadata": {
  "kernelspec": {
   "display_name": "Python 2",
   "language": "python",
   "name": "python2"
  },
  "language_info": {
   "codemirror_mode": {
    "name": "ipython",
    "version": 2
   },
   "file_extension": ".py",
   "mimetype": "text/x-python",
   "name": "python",
   "nbconvert_exporter": "python",
   "pygments_lexer": "ipython2",
   "version": "2.7.13"
  }
 },
 "nbformat": 4,
 "nbformat_minor": 2
}
